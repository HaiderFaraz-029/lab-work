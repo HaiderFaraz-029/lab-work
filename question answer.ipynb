{
 "cells": [
  {
   "cell_type": "code",
   "execution_count": null,
   "id": "dfc569d3",
   "metadata": {},
   "outputs": [],
   "source": [
    "#Haider Faraz \n",
    "#FA24-BBD-029"
   ]
  },
  {
   "cell_type": "code",
   "execution_count": 24,
   "id": "3968e2b7",
   "metadata": {},
   "outputs": [
    {
     "name": "stdout",
     "output_type": "stream",
     "text": [
      "whats up bro  bob the time is  1:24\n"
     ]
    }
   ],
   "source": [
    "#question 1\n",
    "def greet_with_time(name,time):\n",
    "    print (\"whats up bro \", name , \"the time is \",time)\n",
    "result = greet_with_time(\"bob\",\"1:24\")"
   ]
  },
  {
   "cell_type": "code",
   "execution_count": 6,
   "id": "44810462",
   "metadata": {},
   "outputs": [
    {
     "name": "stdout",
     "output_type": "stream",
     "text": [
      "58.666666666666664\n"
     ]
    }
   ],
   "source": [
    "#question 2\n",
    "def calculate_average(num1, num2, num3):\n",
    "    avg = num1+num2+num3/3\n",
    "    return avg\n",
    "result = calculate_average(22,22,44)\n",
    "print(result)\n"
   ]
  },
  {
   "cell_type": "code",
   "execution_count": 10,
   "id": "37b9a214",
   "metadata": {},
   "outputs": [
    {
     "name": "stdout",
     "output_type": "stream",
     "text": [
      "the discounted price is  90.0\n",
      "custom discounted price is  85.0\n"
     ]
    }
   ],
   "source": [
    "#question 3\n",
    "def calculate_discount(price, discount=10):\n",
    "    new_price = price - (price*discount/100)\n",
    "    return new_price\n",
    "bill= calculate_discount(100)\n",
    "print(\"the discounted price is \", bill)\n",
    "bill2 = calculate_discount(100,15)\n",
    "print(\"custom discounted price is \", bill2)"
   ]
  },
  {
   "cell_type": "code",
   "execution_count": 11,
   "id": "74595b53",
   "metadata": {},
   "outputs": [
    {
     "name": "stdout",
     "output_type": "stream",
     "text": [
      "Hello, my name is bob. I am 74 years old and live in lahore.\n"
     ]
    }
   ],
   "source": [
    "#question 4\n",
    "def print_info (name, age, city):\n",
    "    print(f\"Hello, my name is {name}. I am {age} years old and live in {city}.\")\n",
    "info = print_info(\"bob\",74,\"lahore\")\n",
    " "
   ]
  },
  {
   "cell_type": "code",
   "execution_count": 12,
   "id": "b5475aae",
   "metadata": {},
   "outputs": [
    {
     "name": "stdout",
     "output_type": "stream",
     "text": [
      "10\n",
      "None\n"
     ]
    }
   ],
   "source": [
    "#question 5\n",
    "def find_max(*args):\n",
    "    if not args:\n",
    "        return None \n",
    "    return max(args)\n",
    "print(find_max(10, 5, 2, 0))\n",
    "print(find_max())"
   ]
  },
  {
   "cell_type": "code",
   "execution_count": 14,
   "id": "8ce3b8bf",
   "metadata": {},
   "outputs": [
    {
     "name": "stdout",
     "output_type": "stream",
     "text": [
      "720\n",
      "1\n"
     ]
    }
   ],
   "source": [
    "#question 6\n",
    "def factorial(num):\n",
    "    if num == 1 or num == 0:\n",
    "        return 1\n",
    "    else:\n",
    "        return num * factorial (num -1)\n",
    "print (factorial (6))\n",
    "print (factorial (0)) \n"
   ]
  },
  {
   "cell_type": "code",
   "execution_count": 16,
   "id": "1fb04d3f",
   "metadata": {},
   "outputs": [
    {
     "name": "stdout",
     "output_type": "stream",
     "text": [
      "[1, 1, 2, 6, 24]\n"
     ]
    }
   ],
   "source": [
    "#question 7\n",
    "def apply_function(function,nums):\n",
    "    return [function(num) for num in nums ]\n",
    "def factorial(x):\n",
    "    if x == 1 or x == 0:\n",
    "        return 1\n",
    "    else:\n",
    "        return x * factorial (x -1)\n",
    "result = apply_function(factorial,[0,1,2,3,4])\n",
    "print (result)"
   ]
  },
  {
   "cell_type": "code",
   "execution_count": 18,
   "id": "f05d5d3c",
   "metadata": {},
   "outputs": [
    {
     "name": "stdout",
     "output_type": "stream",
     "text": [
      "25\n"
     ]
    }
   ],
   "source": [
    "#question 8\n",
    "sq = lambda num: num**2\n",
    "print(sq(5))"
   ]
  },
  {
   "cell_type": "code",
   "execution_count": 19,
   "id": "af97e8a7",
   "metadata": {},
   "outputs": [
    {
     "name": "stdout",
     "output_type": "stream",
     "text": [
      "[1, 1, 2, 6, 24]\n"
     ]
    }
   ],
   "source": [
    "#question 9\n",
    "def apply_operation(function,nums):\n",
    "    return [function(num) for num in nums ]\n",
    "def factorial(x):\n",
    "    if x == 1 or x == 0:\n",
    "        return 1\n",
    "    else:\n",
    "        return x * factorial (x -1)\n",
    "result = apply_operation(factorial,[0,1,2,3,4])\n",
    "print (result)"
   ]
  },
  {
   "cell_type": "code",
   "execution_count": 20,
   "id": "457b782d",
   "metadata": {},
   "outputs": [
    {
     "name": "stdout",
     "output_type": "stream",
     "text": [
      "Execution time: 0.080951 seconds\n",
      "499999500000\n"
     ]
    }
   ],
   "source": [
    "#question 10\n",
    "import time\n",
    "\n",
    "def time_it(func):\n",
    "    def wrapper(*args, **kwargs):\n",
    "        start_time = time.time()  \n",
    "        result = func(*args, **kwargs)  \n",
    "        end_time = time.time() \n",
    "        execution_time = end_time - start_time  \n",
    "        print(f\"Execution time: {execution_time:.6f} seconds\")\n",
    "        return result \n",
    "    return wrapper\n",
    "@time_it\n",
    "def example_function(n):\n",
    "    total = 0\n",
    "    for i in range(n):\n",
    "        total += i\n",
    "    return total\n",
    "print(example_function(1000000))"
   ]
  },
  {
   "cell_type": "code",
   "execution_count": null,
   "id": "41c1bc0d",
   "metadata": {},
   "outputs": [],
   "source": []
  }
 ],
 "metadata": {
  "kernelspec": {
   "display_name": "Python 3 (ipykernel)",
   "language": "python",
   "name": "python3"
  },
  "language_info": {
   "codemirror_mode": {
    "name": "ipython",
    "version": 3
   },
   "file_extension": ".py",
   "mimetype": "text/x-python",
   "name": "python",
   "nbconvert_exporter": "python",
   "pygments_lexer": "ipython3",
   "version": "3.11.5"
  }
 },
 "nbformat": 4,
 "nbformat_minor": 5
}
